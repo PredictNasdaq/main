{
 "cells": [
  {
   "cell_type": "markdown",
   "metadata": {},
   "source": [
    "## Truth Social data"
   ]
  },
  {
   "cell_type": "code",
   "execution_count": 8,
   "metadata": {},
   "outputs": [],
   "source": [
    "import os\n",
    "import pandas as pd"
   ]
  },
  {
   "cell_type": "code",
   "execution_count": 2,
   "metadata": {},
   "outputs": [],
   "source": [
    "data_dir = \"data\""
   ]
  },
  {
   "cell_type": "code",
   "execution_count": 3,
   "metadata": {},
   "outputs": [],
   "source": [
    "csv_files = [file for file in os.listdir(data_dir) if file.endswith('.csv')]"
   ]
  },
  {
   "cell_type": "code",
   "execution_count": 4,
   "metadata": {},
   "outputs": [
    {
     "name": "stdout",
     "output_type": "stream",
     "text": [
      "CSV 파일 리스트: ['status_data_batch_1.csv', 'status_data_batch_10.csv', 'status_data_batch_11.csv', 'status_data_batch_12.csv', 'status_data_batch_13.csv', 'status_data_batch_14.csv', 'status_data_batch_15.csv', 'status_data_batch_16.csv', 'status_data_batch_17.csv', 'status_data_batch_18.csv', 'status_data_batch_19.csv', 'status_data_batch_2.csv', 'status_data_batch_20.csv', 'status_data_batch_21.csv', 'status_data_batch_22.csv', 'status_data_batch_23.csv', 'status_data_batch_24.csv', 'status_data_batch_25.csv', 'status_data_batch_26.csv', 'status_data_batch_27.csv', 'status_data_batch_28.csv', 'status_data_batch_29.csv', 'status_data_batch_3.csv', 'status_data_batch_4.csv', 'status_data_batch_5.csv', 'status_data_batch_6.csv', 'status_data_batch_7.csv', 'status_data_batch_8.csv', 'status_data_batch_9.csv']\n"
     ]
    }
   ],
   "source": [
    "print(\"CSV 파일 리스트:\", csv_files)"
   ]
  },
  {
   "cell_type": "code",
   "execution_count": 7,
   "metadata": {},
   "outputs": [],
   "source": [
    "merged_df = pd.DataFrame()"
   ]
  },
  {
   "cell_type": "code",
   "execution_count": 8,
   "metadata": {},
   "outputs": [
    {
     "name": "stdout",
     "output_type": "stream",
     "text": [
      "1/29: status_data_batch_1.csv 파일 읽기 완료, 데이터 크기: (1000, 5)\n",
      "현재 병합된 데이터 크기: (1000, 5)\n",
      "2/29: status_data_batch_10.csv 파일 읽기 완료, 데이터 크기: (1000, 5)\n",
      "현재 병합된 데이터 크기: (2000, 5)\n",
      "3/29: status_data_batch_11.csv 파일 읽기 완료, 데이터 크기: (1000, 5)\n",
      "현재 병합된 데이터 크기: (3000, 5)\n",
      "4/29: status_data_batch_12.csv 파일 읽기 완료, 데이터 크기: (1000, 5)\n",
      "현재 병합된 데이터 크기: (4000, 5)\n",
      "5/29: status_data_batch_13.csv 파일 읽기 완료, 데이터 크기: (1000, 5)\n",
      "현재 병합된 데이터 크기: (5000, 5)\n",
      "6/29: status_data_batch_14.csv 파일 읽기 완료, 데이터 크기: (1000, 5)\n",
      "현재 병합된 데이터 크기: (6000, 5)\n",
      "7/29: status_data_batch_15.csv 파일 읽기 완료, 데이터 크기: (1000, 5)\n",
      "현재 병합된 데이터 크기: (7000, 5)\n",
      "8/29: status_data_batch_16.csv 파일 읽기 완료, 데이터 크기: (1000, 5)\n",
      "현재 병합된 데이터 크기: (8000, 5)\n",
      "9/29: status_data_batch_17.csv 파일 읽기 완료, 데이터 크기: (1000, 5)\n",
      "현재 병합된 데이터 크기: (9000, 5)\n",
      "10/29: status_data_batch_18.csv 파일 읽기 완료, 데이터 크기: (1000, 5)\n",
      "현재 병합된 데이터 크기: (10000, 5)\n",
      "11/29: status_data_batch_19.csv 파일 읽기 완료, 데이터 크기: (1000, 5)\n",
      "현재 병합된 데이터 크기: (11000, 5)\n",
      "12/29: status_data_batch_2.csv 파일 읽기 완료, 데이터 크기: (1000, 5)\n",
      "현재 병합된 데이터 크기: (12000, 5)\n",
      "13/29: status_data_batch_20.csv 파일 읽기 완료, 데이터 크기: (1000, 5)\n",
      "현재 병합된 데이터 크기: (13000, 5)\n",
      "14/29: status_data_batch_21.csv 파일 읽기 완료, 데이터 크기: (1000, 5)\n",
      "현재 병합된 데이터 크기: (14000, 5)\n",
      "15/29: status_data_batch_22.csv 파일 읽기 완료, 데이터 크기: (1000, 5)\n",
      "현재 병합된 데이터 크기: (15000, 5)\n",
      "16/29: status_data_batch_23.csv 파일 읽기 완료, 데이터 크기: (1000, 5)\n",
      "현재 병합된 데이터 크기: (16000, 5)\n",
      "17/29: status_data_batch_24.csv 파일 읽기 완료, 데이터 크기: (1000, 5)\n",
      "현재 병합된 데이터 크기: (17000, 5)\n",
      "18/29: status_data_batch_25.csv 파일 읽기 완료, 데이터 크기: (1000, 5)\n",
      "현재 병합된 데이터 크기: (18000, 5)\n",
      "19/29: status_data_batch_26.csv 파일 읽기 완료, 데이터 크기: (1000, 5)\n",
      "현재 병합된 데이터 크기: (19000, 5)\n",
      "20/29: status_data_batch_27.csv 파일 읽기 완료, 데이터 크기: (1000, 5)\n",
      "현재 병합된 데이터 크기: (20000, 5)\n",
      "21/29: status_data_batch_28.csv 파일 읽기 완료, 데이터 크기: (1000, 5)\n",
      "현재 병합된 데이터 크기: (21000, 5)\n",
      "22/29: status_data_batch_29.csv 파일 읽기 완료, 데이터 크기: (813, 5)\n",
      "현재 병합된 데이터 크기: (21813, 5)\n",
      "23/29: status_data_batch_3.csv 파일 읽기 완료, 데이터 크기: (1000, 5)\n",
      "현재 병합된 데이터 크기: (22813, 5)\n",
      "24/29: status_data_batch_4.csv 파일 읽기 완료, 데이터 크기: (1000, 5)\n",
      "현재 병합된 데이터 크기: (23813, 5)\n",
      "25/29: status_data_batch_5.csv 파일 읽기 완료, 데이터 크기: (1000, 5)\n",
      "현재 병합된 데이터 크기: (24813, 5)\n",
      "26/29: status_data_batch_6.csv 파일 읽기 완료, 데이터 크기: (1000, 5)\n",
      "현재 병합된 데이터 크기: (25813, 5)\n",
      "27/29: status_data_batch_7.csv 파일 읽기 완료, 데이터 크기: (1000, 5)\n",
      "현재 병합된 데이터 크기: (26813, 5)\n",
      "28/29: status_data_batch_8.csv 파일 읽기 완료, 데이터 크기: (1000, 5)\n",
      "현재 병합된 데이터 크기: (27813, 5)\n",
      "29/29: status_data_batch_9.csv 파일 읽기 완료, 데이터 크기: (1000, 5)\n",
      "현재 병합된 데이터 크기: (28813, 5)\n"
     ]
    }
   ],
   "source": [
    "for i, csv_file in enumerate(csv_files):\n",
    "    file_path = os.path.join(data_dir, csv_file)\n",
    "    df = pd.read_csv(file_path)\n",
    "    print(f\"{i+1}/{len(csv_files)}: {csv_file} 파일 읽기 완료, 데이터 크기: {df.shape}\")\n",
    "    merged_df = pd.concat([merged_df, df], ignore_index=True)\n",
    "    print(f\"현재 병합된 데이터 크기: {merged_df.shape}\")"
   ]
  },
  {
   "cell_type": "code",
   "execution_count": 9,
   "metadata": {},
   "outputs": [
    {
     "name": "stdout",
     "output_type": "stream",
     "text": [
      "최종 병합된 DataFrame 크기: (28813, 5)\n"
     ]
    }
   ],
   "source": [
    "print(\"최종 병합된 DataFrame 크기:\", merged_df.shape)"
   ]
  },
  {
   "cell_type": "code",
   "execution_count": 10,
   "metadata": {},
   "outputs": [
    {
     "name": "stdout",
     "output_type": "stream",
     "text": [
      "       status_id      author_name           user_id  \\\n",
      "0              1  Donald J. Trump  @realDonaldTrump   \n",
      "1              2  Donald J. Trump  @realDonaldTrump   \n",
      "2              3  Donald J. Trump  @realDonaldTrump   \n",
      "3              4  Donald J. Trump  @realDonaldTrump   \n",
      "4              5  Donald J. Trump  @realDonaldTrump   \n",
      "...          ...              ...               ...   \n",
      "28808       8996             RSBN             @RSBN   \n",
      "28809       8997             RSBN             @RSBN   \n",
      "28810       8998          Newsmax          @NewsMax   \n",
      "28811       8999          Newsmax          @NewsMax   \n",
      "28812       9000  Donald J. Trump  @realDonaldTrump   \n",
      "\n",
      "                       post_time  \\\n",
      "0          June 4, 2024, 2:04 AM   \n",
      "1          June 4, 2024, 1:42 AM   \n",
      "2         June 3, 2024, 10:34 PM   \n",
      "3          June 3, 2024, 9:54 PM   \n",
      "4          June 3, 2024, 9:02 PM   \n",
      "...                          ...   \n",
      "28808  October 28, 2023, 3:35 PM   \n",
      "28809  October 28, 2023, 3:35 PM   \n",
      "28810  October 28, 2023, 8:53 AM   \n",
      "28811  October 28, 2023, 8:53 AM   \n",
      "28812  October 28, 2023, 2:46 PM   \n",
      "\n",
      "                                            post_content  \n",
      "0      https://www.breitbart.com/politics/2024/06/03/...  \n",
      "1      https://www.breitbart.com/clips/2024/06/03/fnc...  \n",
      "2            https://www.foxnews.com/video/6354220642112  \n",
      "3      THANK YOU to all of the incredible Patriots wh...  \n",
      "4      Do you have my latest book? Before I ran for P...  \n",
      "...                                                  ...  \n",
      "28808  “If you spill a drop of American blood, we wil...  \n",
      "28809  “If you spill a drop of American blood, we wil...  \n",
      "28810  TUNE IN: Don't miss President Trump's speech t...  \n",
      "28811  TUNE IN: Don't miss President Trump's speech t...  \n",
      "28812  https://rumble.com/v3s3uhd-president-trump-in-...  \n",
      "\n",
      "[28813 rows x 5 columns]\n"
     ]
    }
   ],
   "source": [
    "print(merged_df)"
   ]
  },
  {
   "cell_type": "code",
   "execution_count": 11,
   "metadata": {},
   "outputs": [
    {
     "data": {
      "text/html": [
       "<div>\n",
       "<style scoped>\n",
       "    .dataframe tbody tr th:only-of-type {\n",
       "        vertical-align: middle;\n",
       "    }\n",
       "\n",
       "    .dataframe tbody tr th {\n",
       "        vertical-align: top;\n",
       "    }\n",
       "\n",
       "    .dataframe thead th {\n",
       "        text-align: right;\n",
       "    }\n",
       "</style>\n",
       "<table border=\"1\" class=\"dataframe\">\n",
       "  <thead>\n",
       "    <tr style=\"text-align: right;\">\n",
       "      <th></th>\n",
       "      <th>status_id</th>\n",
       "      <th>author_name</th>\n",
       "      <th>user_id</th>\n",
       "      <th>post_time</th>\n",
       "      <th>post_content</th>\n",
       "    </tr>\n",
       "  </thead>\n",
       "  <tbody>\n",
       "    <tr>\n",
       "      <th>0</th>\n",
       "      <td>1824</td>\n",
       "      <td>Donald J. Trump</td>\n",
       "      <td>@realDonaldTrump</td>\n",
       "      <td>2022-02-14 10:54:00</td>\n",
       "      <td>Get Ready!  Your favorite President will see y...</td>\n",
       "    </tr>\n",
       "    <tr>\n",
       "      <th>1</th>\n",
       "      <td>1810</td>\n",
       "      <td>Joshua Hooser 🙏🏻🇺🇸</td>\n",
       "      <td>@joshuahooser</td>\n",
       "      <td>2022-03-04 09:59:00</td>\n",
       "      <td>Get involved in YOUR government. Last year I r...</td>\n",
       "    </tr>\n",
       "    <tr>\n",
       "      <th>2</th>\n",
       "      <td>22299</td>\n",
       "      <td>🇺🇸ChrisWWG1WGA🇺🇸</td>\n",
       "      <td>@ChrisWWG1WGA</td>\n",
       "      <td>2022-03-12 20:56:00</td>\n",
       "      <td>NaN</td>\n",
       "    </tr>\n",
       "    <tr>\n",
       "      <th>3</th>\n",
       "      <td>22300</td>\n",
       "      <td>🇺🇸ChrisWWG1WGA🇺🇸</td>\n",
       "      <td>@ChrisWWG1WGA</td>\n",
       "      <td>2022-03-12 20:56:00</td>\n",
       "      <td>NaN</td>\n",
       "    </tr>\n",
       "    <tr>\n",
       "      <th>4</th>\n",
       "      <td>22298</td>\n",
       "      <td>Gustav Pettersson</td>\n",
       "      <td>@gustavpettersson</td>\n",
       "      <td>2022-03-14 13:24:00</td>\n",
       "      <td>ReTruth if you think THIS is the best comeback...</td>\n",
       "    </tr>\n",
       "    <tr>\n",
       "      <th>...</th>\n",
       "      <td>...</td>\n",
       "      <td>...</td>\n",
       "      <td>...</td>\n",
       "      <td>...</td>\n",
       "      <td>...</td>\n",
       "    </tr>\n",
       "    <tr>\n",
       "      <th>28808</th>\n",
       "      <td>28805</td>\n",
       "      <td>Donald J. Trump</td>\n",
       "      <td>@realDonaldTrump</td>\n",
       "      <td>2024-12-26 13:42:00</td>\n",
       "      <td>https://www.newsmax.com/gavinwax/boris-epshtey...</td>\n",
       "    </tr>\n",
       "    <tr>\n",
       "      <th>28809</th>\n",
       "      <td>28802</td>\n",
       "      <td>Donald J. Trump</td>\n",
       "      <td>@realDonaldTrump</td>\n",
       "      <td>2024-12-26 13:43:00</td>\n",
       "      <td>https://gingrich360.com/2024/12/09/president-e...</td>\n",
       "    </tr>\n",
       "    <tr>\n",
       "      <th>28810</th>\n",
       "      <td>28803</td>\n",
       "      <td>Donald J. Trump</td>\n",
       "      <td>@realDonaldTrump</td>\n",
       "      <td>2024-12-26 13:43:00</td>\n",
       "      <td>“Putin says he’s ‘ready’ for potential talks w...</td>\n",
       "    </tr>\n",
       "    <tr>\n",
       "      <th>28811</th>\n",
       "      <td>28815</td>\n",
       "      <td>Donald J. Trump</td>\n",
       "      <td>@realDonaldTrump</td>\n",
       "      <td>2024-12-26 23:32:00</td>\n",
       "      <td>https://www.rsbnetwork.com/opinion/from-45-to-...</td>\n",
       "    </tr>\n",
       "    <tr>\n",
       "      <th>28812</th>\n",
       "      <td>28814</td>\n",
       "      <td>Donald J. Trump</td>\n",
       "      <td>@realDonaldTrump</td>\n",
       "      <td>2024-12-26 23:33:00</td>\n",
       "      <td>https://www.rsbnetwork.com/news/trump-vows-lar...</td>\n",
       "    </tr>\n",
       "  </tbody>\n",
       "</table>\n",
       "<p>28813 rows × 5 columns</p>\n",
       "</div>"
      ],
      "text/plain": [
       "       status_id         author_name            user_id           post_time  \\\n",
       "0           1824     Donald J. Trump   @realDonaldTrump 2022-02-14 10:54:00   \n",
       "1           1810  Joshua Hooser 🙏🏻🇺🇸      @joshuahooser 2022-03-04 09:59:00   \n",
       "2          22299    🇺🇸ChrisWWG1WGA🇺🇸      @ChrisWWG1WGA 2022-03-12 20:56:00   \n",
       "3          22300    🇺🇸ChrisWWG1WGA🇺🇸      @ChrisWWG1WGA 2022-03-12 20:56:00   \n",
       "4          22298   Gustav Pettersson  @gustavpettersson 2022-03-14 13:24:00   \n",
       "...          ...                 ...                ...                 ...   \n",
       "28808      28805     Donald J. Trump   @realDonaldTrump 2024-12-26 13:42:00   \n",
       "28809      28802     Donald J. Trump   @realDonaldTrump 2024-12-26 13:43:00   \n",
       "28810      28803     Donald J. Trump   @realDonaldTrump 2024-12-26 13:43:00   \n",
       "28811      28815     Donald J. Trump   @realDonaldTrump 2024-12-26 23:32:00   \n",
       "28812      28814     Donald J. Trump   @realDonaldTrump 2024-12-26 23:33:00   \n",
       "\n",
       "                                            post_content  \n",
       "0      Get Ready!  Your favorite President will see y...  \n",
       "1      Get involved in YOUR government. Last year I r...  \n",
       "2                                                    NaN  \n",
       "3                                                    NaN  \n",
       "4      ReTruth if you think THIS is the best comeback...  \n",
       "...                                                  ...  \n",
       "28808  https://www.newsmax.com/gavinwax/boris-epshtey...  \n",
       "28809  https://gingrich360.com/2024/12/09/president-e...  \n",
       "28810  “Putin says he’s ‘ready’ for potential talks w...  \n",
       "28811  https://www.rsbnetwork.com/opinion/from-45-to-...  \n",
       "28812  https://www.rsbnetwork.com/news/trump-vows-lar...  \n",
       "\n",
       "[28813 rows x 5 columns]"
      ]
     },
     "execution_count": 11,
     "metadata": {},
     "output_type": "execute_result"
    }
   ],
   "source": [
    "merged_df['post_time'] = pd.to_datetime(merged_df['post_time'], errors='coerce')  # post_time을 datetime으로 변환\n",
    "merged_df = merged_df.sort_values(by='post_time').reset_index(drop=True)  # post_time 기준 정렬\n",
    "merged_df"
   ]
  },
  {
   "cell_type": "code",
   "execution_count": 12,
   "metadata": {},
   "outputs": [
    {
     "data": {
      "text/html": [
       "<div>\n",
       "<style scoped>\n",
       "    .dataframe tbody tr th:only-of-type {\n",
       "        vertical-align: middle;\n",
       "    }\n",
       "\n",
       "    .dataframe tbody tr th {\n",
       "        vertical-align: top;\n",
       "    }\n",
       "\n",
       "    .dataframe thead th {\n",
       "        text-align: right;\n",
       "    }\n",
       "</style>\n",
       "<table border=\"1\" class=\"dataframe\">\n",
       "  <thead>\n",
       "    <tr style=\"text-align: right;\">\n",
       "      <th></th>\n",
       "      <th>status_id</th>\n",
       "      <th>author_name</th>\n",
       "      <th>user_id</th>\n",
       "      <th>post_time</th>\n",
       "      <th>post_content</th>\n",
       "    </tr>\n",
       "  </thead>\n",
       "  <tbody>\n",
       "    <tr>\n",
       "      <th>0</th>\n",
       "      <td>1824</td>\n",
       "      <td>Donald J. Trump</td>\n",
       "      <td>@realDonaldTrump</td>\n",
       "      <td>2022-02-14 10:54:00</td>\n",
       "      <td>Get Ready!  Your favorite President will see y...</td>\n",
       "    </tr>\n",
       "    <tr>\n",
       "      <th>1</th>\n",
       "      <td>1810</td>\n",
       "      <td>Joshua Hooser 🙏🏻🇺🇸</td>\n",
       "      <td>@joshuahooser</td>\n",
       "      <td>2022-03-04 09:59:00</td>\n",
       "      <td>Get involved in YOUR government. Last year I r...</td>\n",
       "    </tr>\n",
       "    <tr>\n",
       "      <th>4</th>\n",
       "      <td>22298</td>\n",
       "      <td>Gustav Pettersson</td>\n",
       "      <td>@gustavpettersson</td>\n",
       "      <td>2022-03-14 13:24:00</td>\n",
       "      <td>ReTruth if you think THIS is the best comeback...</td>\n",
       "    </tr>\n",
       "    <tr>\n",
       "      <th>5</th>\n",
       "      <td>22297</td>\n",
       "      <td>Gustav Pettersson</td>\n",
       "      <td>@gustavpettersson</td>\n",
       "      <td>2022-03-14 13:24:00</td>\n",
       "      <td>ReTruth if you think THIS is the best comeback...</td>\n",
       "    </tr>\n",
       "    <tr>\n",
       "      <th>6</th>\n",
       "      <td>22296</td>\n",
       "      <td>🗽🅶🆁🅴🅶ⁿʲ</td>\n",
       "      <td>@Gregpogo35</td>\n",
       "      <td>2022-03-14 15:11:00</td>\n",
       "      <td>RETRUTH IF YOU CAN’T STAND THESE 2 IGNORANT PE...</td>\n",
       "    </tr>\n",
       "    <tr>\n",
       "      <th>...</th>\n",
       "      <td>...</td>\n",
       "      <td>...</td>\n",
       "      <td>...</td>\n",
       "      <td>...</td>\n",
       "      <td>...</td>\n",
       "    </tr>\n",
       "    <tr>\n",
       "      <th>28808</th>\n",
       "      <td>28805</td>\n",
       "      <td>Donald J. Trump</td>\n",
       "      <td>@realDonaldTrump</td>\n",
       "      <td>2024-12-26 13:42:00</td>\n",
       "      <td>https://www.newsmax.com/gavinwax/boris-epshtey...</td>\n",
       "    </tr>\n",
       "    <tr>\n",
       "      <th>28809</th>\n",
       "      <td>28802</td>\n",
       "      <td>Donald J. Trump</td>\n",
       "      <td>@realDonaldTrump</td>\n",
       "      <td>2024-12-26 13:43:00</td>\n",
       "      <td>https://gingrich360.com/2024/12/09/president-e...</td>\n",
       "    </tr>\n",
       "    <tr>\n",
       "      <th>28810</th>\n",
       "      <td>28803</td>\n",
       "      <td>Donald J. Trump</td>\n",
       "      <td>@realDonaldTrump</td>\n",
       "      <td>2024-12-26 13:43:00</td>\n",
       "      <td>“Putin says he’s ‘ready’ for potential talks w...</td>\n",
       "    </tr>\n",
       "    <tr>\n",
       "      <th>28811</th>\n",
       "      <td>28815</td>\n",
       "      <td>Donald J. Trump</td>\n",
       "      <td>@realDonaldTrump</td>\n",
       "      <td>2024-12-26 23:32:00</td>\n",
       "      <td>https://www.rsbnetwork.com/opinion/from-45-to-...</td>\n",
       "    </tr>\n",
       "    <tr>\n",
       "      <th>28812</th>\n",
       "      <td>28814</td>\n",
       "      <td>Donald J. Trump</td>\n",
       "      <td>@realDonaldTrump</td>\n",
       "      <td>2024-12-26 23:33:00</td>\n",
       "      <td>https://www.rsbnetwork.com/news/trump-vows-lar...</td>\n",
       "    </tr>\n",
       "  </tbody>\n",
       "</table>\n",
       "<p>22879 rows × 5 columns</p>\n",
       "</div>"
      ],
      "text/plain": [
       "       status_id         author_name            user_id           post_time  \\\n",
       "0           1824     Donald J. Trump   @realDonaldTrump 2022-02-14 10:54:00   \n",
       "1           1810  Joshua Hooser 🙏🏻🇺🇸      @joshuahooser 2022-03-04 09:59:00   \n",
       "4          22298   Gustav Pettersson  @gustavpettersson 2022-03-14 13:24:00   \n",
       "5          22297   Gustav Pettersson  @gustavpettersson 2022-03-14 13:24:00   \n",
       "6          22296             🗽🅶🆁🅴🅶ⁿʲ        @Gregpogo35 2022-03-14 15:11:00   \n",
       "...          ...                 ...                ...                 ...   \n",
       "28808      28805     Donald J. Trump   @realDonaldTrump 2024-12-26 13:42:00   \n",
       "28809      28802     Donald J. Trump   @realDonaldTrump 2024-12-26 13:43:00   \n",
       "28810      28803     Donald J. Trump   @realDonaldTrump 2024-12-26 13:43:00   \n",
       "28811      28815     Donald J. Trump   @realDonaldTrump 2024-12-26 23:32:00   \n",
       "28812      28814     Donald J. Trump   @realDonaldTrump 2024-12-26 23:33:00   \n",
       "\n",
       "                                            post_content  \n",
       "0      Get Ready!  Your favorite President will see y...  \n",
       "1      Get involved in YOUR government. Last year I r...  \n",
       "4      ReTruth if you think THIS is the best comeback...  \n",
       "5      ReTruth if you think THIS is the best comeback...  \n",
       "6      RETRUTH IF YOU CAN’T STAND THESE 2 IGNORANT PE...  \n",
       "...                                                  ...  \n",
       "28808  https://www.newsmax.com/gavinwax/boris-epshtey...  \n",
       "28809  https://gingrich360.com/2024/12/09/president-e...  \n",
       "28810  “Putin says he’s ‘ready’ for potential talks w...  \n",
       "28811  https://www.rsbnetwork.com/opinion/from-45-to-...  \n",
       "28812  https://www.rsbnetwork.com/news/trump-vows-lar...  \n",
       "\n",
       "[22879 rows x 5 columns]"
      ]
     },
     "execution_count": 12,
     "metadata": {},
     "output_type": "execute_result"
    }
   ],
   "source": [
    "merged_df = merged_df.dropna()\n",
    "merged_df"
   ]
  },
  {
   "cell_type": "code",
   "execution_count": 13,
   "metadata": {},
   "outputs": [],
   "source": [
    "merged_df.to_csv(\"data.csv\", index=False)"
   ]
  },
  {
   "cell_type": "code",
   "execution_count": 1,
   "metadata": {},
   "outputs": [],
   "source": [
    "import os\n",
    "import pandas as pd"
   ]
  },
  {
   "cell_type": "code",
   "execution_count": 2,
   "metadata": {},
   "outputs": [
    {
     "data": {
      "text/html": [
       "<div>\n",
       "<style scoped>\n",
       "    .dataframe tbody tr th:only-of-type {\n",
       "        vertical-align: middle;\n",
       "    }\n",
       "\n",
       "    .dataframe tbody tr th {\n",
       "        vertical-align: top;\n",
       "    }\n",
       "\n",
       "    .dataframe thead th {\n",
       "        text-align: right;\n",
       "    }\n",
       "</style>\n",
       "<table border=\"1\" class=\"dataframe\">\n",
       "  <thead>\n",
       "    <tr style=\"text-align: right;\">\n",
       "      <th></th>\n",
       "      <th>status_id</th>\n",
       "      <th>author_name</th>\n",
       "      <th>user_id</th>\n",
       "      <th>post_time</th>\n",
       "      <th>post_content</th>\n",
       "    </tr>\n",
       "  </thead>\n",
       "  <tbody>\n",
       "    <tr>\n",
       "      <th>0</th>\n",
       "      <td>1824</td>\n",
       "      <td>Donald J. Trump</td>\n",
       "      <td>@realDonaldTrump</td>\n",
       "      <td>2022-02-14 10:54:00</td>\n",
       "      <td>Get Ready!  Your favorite President will see y...</td>\n",
       "    </tr>\n",
       "    <tr>\n",
       "      <th>1</th>\n",
       "      <td>1810</td>\n",
       "      <td>Joshua Hooser 🙏🏻🇺🇸</td>\n",
       "      <td>@joshuahooser</td>\n",
       "      <td>2022-03-04 09:59:00</td>\n",
       "      <td>Get involved in YOUR government. Last year I r...</td>\n",
       "    </tr>\n",
       "    <tr>\n",
       "      <th>2</th>\n",
       "      <td>22298</td>\n",
       "      <td>Gustav Pettersson</td>\n",
       "      <td>@gustavpettersson</td>\n",
       "      <td>2022-03-14 13:24:00</td>\n",
       "      <td>ReTruth if you think THIS is the best comeback...</td>\n",
       "    </tr>\n",
       "    <tr>\n",
       "      <th>3</th>\n",
       "      <td>22297</td>\n",
       "      <td>Gustav Pettersson</td>\n",
       "      <td>@gustavpettersson</td>\n",
       "      <td>2022-03-14 13:24:00</td>\n",
       "      <td>ReTruth if you think THIS is the best comeback...</td>\n",
       "    </tr>\n",
       "    <tr>\n",
       "      <th>4</th>\n",
       "      <td>22296</td>\n",
       "      <td>🗽🅶🆁🅴🅶ⁿʲ</td>\n",
       "      <td>@Gregpogo35</td>\n",
       "      <td>2022-03-14 15:11:00</td>\n",
       "      <td>RETRUTH IF YOU CAN’T STAND THESE 2 IGNORANT PE...</td>\n",
       "    </tr>\n",
       "    <tr>\n",
       "      <th>...</th>\n",
       "      <td>...</td>\n",
       "      <td>...</td>\n",
       "      <td>...</td>\n",
       "      <td>...</td>\n",
       "      <td>...</td>\n",
       "    </tr>\n",
       "    <tr>\n",
       "      <th>22874</th>\n",
       "      <td>28805</td>\n",
       "      <td>Donald J. Trump</td>\n",
       "      <td>@realDonaldTrump</td>\n",
       "      <td>2024-12-26 13:42:00</td>\n",
       "      <td>https://www.newsmax.com/gavinwax/boris-epshtey...</td>\n",
       "    </tr>\n",
       "    <tr>\n",
       "      <th>22875</th>\n",
       "      <td>28802</td>\n",
       "      <td>Donald J. Trump</td>\n",
       "      <td>@realDonaldTrump</td>\n",
       "      <td>2024-12-26 13:43:00</td>\n",
       "      <td>https://gingrich360.com/2024/12/09/president-e...</td>\n",
       "    </tr>\n",
       "    <tr>\n",
       "      <th>22876</th>\n",
       "      <td>28803</td>\n",
       "      <td>Donald J. Trump</td>\n",
       "      <td>@realDonaldTrump</td>\n",
       "      <td>2024-12-26 13:43:00</td>\n",
       "      <td>“Putin says he’s ‘ready’ for potential talks w...</td>\n",
       "    </tr>\n",
       "    <tr>\n",
       "      <th>22877</th>\n",
       "      <td>28815</td>\n",
       "      <td>Donald J. Trump</td>\n",
       "      <td>@realDonaldTrump</td>\n",
       "      <td>2024-12-26 23:32:00</td>\n",
       "      <td>https://www.rsbnetwork.com/opinion/from-45-to-...</td>\n",
       "    </tr>\n",
       "    <tr>\n",
       "      <th>22878</th>\n",
       "      <td>28814</td>\n",
       "      <td>Donald J. Trump</td>\n",
       "      <td>@realDonaldTrump</td>\n",
       "      <td>2024-12-26 23:33:00</td>\n",
       "      <td>https://www.rsbnetwork.com/news/trump-vows-lar...</td>\n",
       "    </tr>\n",
       "  </tbody>\n",
       "</table>\n",
       "<p>22879 rows × 5 columns</p>\n",
       "</div>"
      ],
      "text/plain": [
       "       status_id         author_name            user_id            post_time  \\\n",
       "0           1824     Donald J. Trump   @realDonaldTrump  2022-02-14 10:54:00   \n",
       "1           1810  Joshua Hooser 🙏🏻🇺🇸      @joshuahooser  2022-03-04 09:59:00   \n",
       "2          22298   Gustav Pettersson  @gustavpettersson  2022-03-14 13:24:00   \n",
       "3          22297   Gustav Pettersson  @gustavpettersson  2022-03-14 13:24:00   \n",
       "4          22296             🗽🅶🆁🅴🅶ⁿʲ        @Gregpogo35  2022-03-14 15:11:00   \n",
       "...          ...                 ...                ...                  ...   \n",
       "22874      28805     Donald J. Trump   @realDonaldTrump  2024-12-26 13:42:00   \n",
       "22875      28802     Donald J. Trump   @realDonaldTrump  2024-12-26 13:43:00   \n",
       "22876      28803     Donald J. Trump   @realDonaldTrump  2024-12-26 13:43:00   \n",
       "22877      28815     Donald J. Trump   @realDonaldTrump  2024-12-26 23:32:00   \n",
       "22878      28814     Donald J. Trump   @realDonaldTrump  2024-12-26 23:33:00   \n",
       "\n",
       "                                            post_content  \n",
       "0      Get Ready!  Your favorite President will see y...  \n",
       "1      Get involved in YOUR government. Last year I r...  \n",
       "2      ReTruth if you think THIS is the best comeback...  \n",
       "3      ReTruth if you think THIS is the best comeback...  \n",
       "4      RETRUTH IF YOU CAN’T STAND THESE 2 IGNORANT PE...  \n",
       "...                                                  ...  \n",
       "22874  https://www.newsmax.com/gavinwax/boris-epshtey...  \n",
       "22875  https://gingrich360.com/2024/12/09/president-e...  \n",
       "22876  “Putin says he’s ‘ready’ for potential talks w...  \n",
       "22877  https://www.rsbnetwork.com/opinion/from-45-to-...  \n",
       "22878  https://www.rsbnetwork.com/news/trump-vows-lar...  \n",
       "\n",
       "[22879 rows x 5 columns]"
      ]
     },
     "execution_count": 2,
     "metadata": {},
     "output_type": "execute_result"
    }
   ],
   "source": [
    "df = pd.read_csv('data.csv')\n",
    "df"
   ]
  },
  {
   "cell_type": "markdown",
   "metadata": {},
   "source": [
    "## Twitter data"
   ]
  },
  {
   "cell_type": "markdown",
   "metadata": {},
   "source": [
    "UTC -> EST"
   ]
  },
  {
   "cell_type": "code",
   "execution_count": null,
   "metadata": {},
   "outputs": [],
   "source": [
    "from datetime import datetime\n",
    "import pytz"
   ]
  },
  {
   "cell_type": "code",
   "execution_count": null,
   "metadata": {},
   "outputs": [],
   "source": [
    "# UTC -> EST 변환\n",
    "df['date'] = pd.to_datetime(df['date'])  # 문자열을 datetime 형식으로 변환\n",
    "df['date'] = df['date'].dt.tz_localize('UTC').dt.tz_convert('US/Eastern')  # UTC를 EST로 변환\n",
    "\n",
    "# 결과 출력\n",
    "df"
   ]
  },
  {
   "cell_type": "code",
   "execution_count": null,
   "metadata": {},
   "outputs": [],
   "source": [
    "# 시간대 정보 제거\n",
    "df['date'] = df['date'].str.replace(r'-\\d{2}:\\d{2}$', '', regex=True)\n",
    "\n",
    "print(df)"
   ]
  },
  {
   "cell_type": "markdown",
   "metadata": {},
   "source": [
    "## X data"
   ]
  },
  {
   "cell_type": "markdown",
   "metadata": {},
   "source": [
    "KST -> EST"
   ]
  },
  {
   "cell_type": "code",
   "execution_count": null,
   "metadata": {},
   "outputs": [],
   "source": [
    "import pandas as pd\n",
    "\n",
    "tweet = pd.read_csv('12-26.csv')\n",
    "tweet"
   ]
  },
  {
   "cell_type": "code",
   "execution_count": null,
   "metadata": {},
   "outputs": [],
   "source": [
    "# '·' 및 공백 제거\n",
    "tweet['date'] = tweet['date'].str.replace('·', '').str.strip()\n",
    "\n",
    "# date 열을 datetime으로 변환\n",
    "tweet['date'] = pd.to_datetime(tweet['date'], format='%I:%M %p %b %d, %Y')\n",
    "\n",
    "# 결과 출력\n",
    "print(tweet)"
   ]
  },
  {
   "cell_type": "code",
   "execution_count": null,
   "metadata": {},
   "outputs": [],
   "source": [
    "# 시간 순 정렬\n",
    "tweet = tweet.sort_values(by='date')\n",
    "tweet"
   ]
  },
  {
   "cell_type": "code",
   "execution_count": null,
   "metadata": {},
   "outputs": [],
   "source": [
    "from pytz import timezone\n",
    "\n",
    "# date 열을 datetime 형식으로 변환\n",
    "tweet['date'] = pd.to_datetime(tweet['date'])\n",
    "\n",
    "# KST -> EST 변환\n",
    "kst = timezone('Asia/Seoul')  # KST 타임존\n",
    "est = timezone('US/Eastern')  # EST 타임존\n",
    "\n",
    "# KST 시간대를 datetime에 지정한 뒤, EST로 변환\n",
    "tweet['date'] = tweet['date'].dt.tz_localize(kst).dt.tz_convert(est)\n",
    "\n",
    "# 결과 출력\n",
    "print(tweet)"
   ]
  },
  {
   "cell_type": "code",
   "execution_count": null,
   "metadata": {},
   "outputs": [],
   "source": [
    "# 시간대 정보를 제거\n",
    "tweet['date'] = tweet['date'].dt.tz_localize(None)\n",
    "\n",
    "# 결과 출력\n",
    "print(tweet)"
   ]
  },
  {
   "cell_type": "code",
   "execution_count": null,
   "metadata": {},
   "outputs": [],
   "source": [
    "# df 저장\n",
    "df.to_csv('est.csv', index=False)"
   ]
  },
  {
   "cell_type": "markdown",
   "metadata": {},
   "source": [
    "### 3개의 데이터를 하나로 합친 후, 전처리"
   ]
  },
  {
   "cell_type": "code",
   "execution_count": null,
   "metadata": {},
   "outputs": [],
   "source": [
    "# 데이터프레임 합치기\n",
    "combined_df = pd.concat([df, tweet], ignore_index=True)\n",
    "\n",
    "# 결과 출력\n",
    "print(combined_df)"
   ]
  },
  {
   "cell_type": "code",
   "execution_count": 3,
   "metadata": {},
   "outputs": [],
   "source": [
    "import re"
   ]
  },
  {
   "cell_type": "markdown",
   "metadata": {},
   "source": [
    "url 제거"
   ]
  },
  {
   "cell_type": "code",
   "execution_count": null,
   "metadata": {},
   "outputs": [],
   "source": [
    "df['text'] = df['text'].apply(lambda x: re.sub(r'http\\S+', '', x))\n",
    "df"
   ]
  },
  {
   "cell_type": "code",
   "execution_count": null,
   "metadata": {},
   "outputs": [],
   "source": [
    "# 'text' 열에서 공백 또는 빈 문자열 제거\n",
    "df = df[df['text'].str.strip() != '']\n",
    "\n",
    "# 인덱스 재설정\n",
    "df = df.reset_index(drop=True)\n",
    "df"
   ]
  }
 ],
 "metadata": {
  "kernelspec": {
   "display_name": "base",
   "language": "python",
   "name": "python3"
  },
  "language_info": {
   "codemirror_mode": {
    "name": "ipython",
    "version": 3
   },
   "file_extension": ".py",
   "mimetype": "text/x-python",
   "name": "python",
   "nbconvert_exporter": "python",
   "pygments_lexer": "ipython3",
   "version": "3.11.5"
  }
 },
 "nbformat": 4,
 "nbformat_minor": 2
}
